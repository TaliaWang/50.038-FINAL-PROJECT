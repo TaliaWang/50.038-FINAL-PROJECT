{
 "cells": [
  {
   "cell_type": "code",
   "execution_count": null,
   "id": "f204f989",
   "metadata": {},
   "outputs": [],
   "source": [
    "import pandas as pd\n",
    "from sklearn import svm\n",
    "from sklearn.metrics import classification_report, confusion_matrix\n",
    "from sklearn.model_selection import train_test_split, GridSearchCV, cross_val_score\n",
    "import jsonlines\n",
    "import numpy as np\n",
    "\n",
    "CLS_TOKEN_INDEX = 0\n",
    "\n",
    "# read embeddings (feature column) and output (output column)\n",
    "embeddings = []\n",
    "with jsonlines.open(\"../MUStARD/data/bert-output.jsonl\") as utterances:\n",
    "    for utterance in utterances:\n",
    "        features = utterance[\"features\"][CLS_TOKEN_INDEX]\n",
    "        bert_embedding_target = np.mean([np.array(features[\"layers\"][layer][\"values\"])\n",
    "                                            for layer in range(4)], axis=0)\n",
    "        embeddings.append(np.copy(bert_embedding_target))\n",
    "output = pd.read_json(\"../MUStARD/data/sarcasm_data.json\")\n",
    "output = output.transpose()[\"sarcasm\"].astype(int)\n",
    "\n",
    "# split\n",
    "X_train, X_test, y_train, y_test = train_test_split(embeddings, \n",
    "                                                    output,\n",
    "                                                    test_size=0.3,\n",
    "                                                    random_state=0)\n",
    "# tune hyperparameters\n",
    "params = [{'kernel': ['rbf', 'linear', 'poly', 'sigmoid'],\n",
    "         'degree': [3, 10, 15],\n",
    "         'gamma': ['scale', 'auto', 2],\n",
    "          'coef0': [0, 1, 5]}]\n",
    "gs = GridSearchCV(svm.SVC(),\n",
    "                      param_grid=params,\n",
    "                      scoring='f1',\n",
    "                      cv=5)\n",
    "gs.fit(X_train, y_train)\n",
    "print(gs.best_params_)\n",
    "\n",
    "pred = gs.predict(X_test)\n",
    "print(classification_report(y_test, pred))\n",
    "print(confusion_matrix(y_test, pred))\n",
    "\n",
    "# evaluate \n",
    "clf = gs.best_estimator_\n",
    "scores = cross_val_score(clf, X_test, y_test, cv=5, scoring='f1')\n",
    "sum(scores) / len(scores)\n"
   ]
  },
  {
   "cell_type": "code",
   "execution_count": 1,
   "id": "f78243b6",
   "metadata": {},
   "outputs": [
    {
     "data": {
      "text/plain": [
       "18"
      ]
     },
     "execution_count": 1,
     "metadata": {},
     "output_type": "execute_result"
    }
   ],
   "source": [
    "9+9"
   ]
  },
  {
   "cell_type": "code",
   "execution_count": 2,
   "id": "15997cbb",
   "metadata": {},
   "outputs": [],
   "source": [
    "import pandas as pd\n",
    "from sklearn import svm\n",
    "from sklearn.metrics import classification_report, confusion_matrix\n",
    "from sklearn.model_selection import train_test_split, GridSearchCV, cross_val_score\n",
    "import jsonlines\n",
    "import numpy as np\n",
    "\n",
    "CLS_TOKEN_INDEX = 0\n",
    "\n",
    "# read embeddings (feature column) and output (output column)\n",
    "embeddings = []\n",
    "with jsonlines.open(\"../MUStARD/data/bert-output.jsonl\") as utterances:\n",
    "    for utterance in utterances:\n",
    "        features = utterance[\"features\"][CLS_TOKEN_INDEX]\n",
    "        bert_embedding_target = np.mean([np.array(features[\"layers\"][layer][\"values\"])\n",
    "                                            for layer in range(4)], axis=0)\n",
    "        embeddings.append(np.copy(bert_embedding_target))\n",
    "output = pd.read_json(\"../MUStARD/data/sarcasm_data.json\")\n",
    "output = output.transpose()[\"sarcasm\"].astype(int)\n",
    "\n"
   ]
  },
  {
   "cell_type": "code",
   "execution_count": 3,
   "id": "e4871db8",
   "metadata": {},
   "outputs": [],
   "source": [
    "# split\n",
    "X_train, X_test, y_train, y_test = train_test_split(embeddings, \n",
    "                                                    output,\n",
    "                                                    test_size=0.3,\n",
    "                                                    random_state=0)\n"
   ]
  },
  {
   "cell_type": "code",
   "execution_count": null,
   "id": "f649ca59",
   "metadata": {},
   "outputs": [],
   "source": [
    "# tune hyperparameters\n",
    "params = [{'kernel': ['rbf', 'poly'],\n",
    "         'degree': [10, 15],\n",
    "         'gamma': ['scale'],\n",
    "          'coef0': [0]}]\n",
    "gs = GridSearchCV(svm.SVC(),\n",
    "                      param_grid=params,\n",
    "                      scoring='f1',\n",
    "                      cv=5)\n",
    "gs.fit(X_train, y_train)\n",
    "print(gs.best_params_)\n"
   ]
  },
  {
   "cell_type": "code",
   "execution_count": null,
   "id": "5f28267f",
   "metadata": {},
   "outputs": [],
   "source": [
    "pred = gs.predict(X_test)\n",
    "print(classification_report(y_test, pred))\n",
    "print(confusion_matrix(y_test, pred))\n"
   ]
  },
  {
   "cell_type": "code",
   "execution_count": null,
   "id": "b33323fc",
   "metadata": {},
   "outputs": [],
   "source": [
    "# evaluate \n",
    "clf = gs.best_estimator_\n",
    "scores = cross_val_score(clf, X_test, y_test, cv=5, scoring='f1')\n",
    "sum(scores) / len(scores)\n"
   ]
  }
 ],
 "metadata": {
  "kernelspec": {
   "display_name": "Python 3 (ipykernel)",
   "language": "python",
   "name": "python3"
  },
  "language_info": {
   "codemirror_mode": {
    "name": "ipython",
    "version": 3
   },
   "file_extension": ".py",
   "mimetype": "text/x-python",
   "name": "python",
   "nbconvert_exporter": "python",
   "pygments_lexer": "ipython3",
   "version": "3.9.13"
  }
 },
 "nbformat": 4,
 "nbformat_minor": 5
}
