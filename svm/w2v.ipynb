{
  "nbformat": 4,
  "nbformat_minor": 0,
  "metadata": {
    "colab": {
      "provenance": []
    },
    "kernelspec": {
      "name": "python3",
      "display_name": "Python 3"
    },
    "language_info": {
      "name": "python"
    }
  },
  "cells": [
    {
      "cell_type": "code",
      "source": [
        "# packages\n",
        "!pip install gensim==3.8.3\n",
        "\n",
        "import pandas as pd\n",
        "import matplotlib.pyplot as plt\n",
        "import pickle\n",
        "import gensim.downloader\n",
        "from gensim.models import Word2Vec\n",
        "import nltk.data\n",
        "from sklearn.svm import SVC\n",
        "from sklearn.model_selection import train_test_split\n",
        "import numpy as np\n",
        "import logging\n",
        "from sklearn.metrics import accuracy_score, confusion_matrix, classification_report\n",
        "from sklearn import decomposition\n",
        "print(gensim.__version__)"
      ],
      "metadata": {
        "colab": {
          "base_uri": "https://localhost:8080/"
        },
        "id": "GviBpvXP51pA",
        "outputId": "dad41c5e-b35d-4986-f54b-69b2b78f262f"
      },
      "execution_count": null,
      "outputs": [
        {
          "output_type": "stream",
          "name": "stdout",
          "text": [
            "Looking in indexes: https://pypi.org/simple, https://us-python.pkg.dev/colab-wheels/public/simple/\n",
            "Requirement already satisfied: gensim==3.8.3 in /usr/local/lib/python3.9/dist-packages (3.8.3)\n",
            "Requirement already satisfied: scipy>=0.18.1 in /usr/local/lib/python3.9/dist-packages (from gensim==3.8.3) (1.10.1)\n",
            "Requirement already satisfied: six>=1.5.0 in /usr/local/lib/python3.9/dist-packages (from gensim==3.8.3) (1.16.0)\n",
            "Requirement already satisfied: smart-open>=1.8.1 in /usr/local/lib/python3.9/dist-packages (from gensim==3.8.3) (6.3.0)\n",
            "Requirement already satisfied: numpy>=1.11.3 in /usr/local/lib/python3.9/dist-packages (from gensim==3.8.3) (1.22.4)\n",
            "3.8.3\n"
          ]
        }
      ]
    },
    {
      "cell_type": "code",
      "source": [
        "# get data\n",
        "url = \"https://raw.githubusercontent.com/soujanyaporia/MUStARD/master/data/sarcasm_data.json\"\n",
        "df = pd.read_json(url,orient='index')\n"
      ],
      "metadata": {
        "colab": {
          "base_uri": "https://localhost:8080/",
          "height": 337
        },
        "id": "0TCHnA4NdOD8",
        "outputId": "e1e0ec2f-be61-4da2-9034-62562b311eef"
      },
      "execution_count": null,
      "outputs": [
        {
          "output_type": "execute_result",
          "data": {
            "text/plain": [
              "                                              utterance  speaker  \\\n",
              "160   It's just a privilege to watch your mind at work.  SHELDON   \n",
              "170   I don't think I'll be able to stop thinking ab...    PENNY   \n",
              "180   Since it's not bee season, you can have my epi...  SHELDON   \n",
              "190   Lois Lane is falling, accelerating at an initi...  SHELDON   \n",
              "1105  I'm just inferring this is a couch because the...  SHELDON   \n",
              "\n",
              "                                                context  \\\n",
              "160   [I never would have identified the fingerprint...   \n",
              "170   [This is one of my favorite places to kick bac...   \n",
              "180   [Here we go. Pad thai, no peanuts., But does i...   \n",
              "190   [A marathon? How many Superman movies are ther...   \n",
              "1105  [Great Caesar's ghost, look at this place., So...   \n",
              "\n",
              "                                       context_speakers show  sarcasm  \n",
              "160                                  [LEONARD, SHELDON]  BBT     True  \n",
              "170   [HOWARD, PENNY, HOWARD, HOWARD, HOWARD, PENNY,...  BBT     True  \n",
              "180                          [LEONARD, HOWARD, LEONARD]  BBT    False  \n",
              "190   [PENNY, SHELDON, PENNY, SHELDON, SHELDON, PENN...  BBT    False  \n",
              "1105  [SHELDON, LEONARD, SHELDON, SHELDON, SHELDON, ...  BBT     True  "
            ],
            "text/html": [
              "\n",
              "  <div id=\"df-e317bff2-699a-4ade-afe9-69696acb3516\">\n",
              "    <div class=\"colab-df-container\">\n",
              "      <div>\n",
              "<style scoped>\n",
              "    .dataframe tbody tr th:only-of-type {\n",
              "        vertical-align: middle;\n",
              "    }\n",
              "\n",
              "    .dataframe tbody tr th {\n",
              "        vertical-align: top;\n",
              "    }\n",
              "\n",
              "    .dataframe thead th {\n",
              "        text-align: right;\n",
              "    }\n",
              "</style>\n",
              "<table border=\"1\" class=\"dataframe\">\n",
              "  <thead>\n",
              "    <tr style=\"text-align: right;\">\n",
              "      <th></th>\n",
              "      <th>utterance</th>\n",
              "      <th>speaker</th>\n",
              "      <th>context</th>\n",
              "      <th>context_speakers</th>\n",
              "      <th>show</th>\n",
              "      <th>sarcasm</th>\n",
              "    </tr>\n",
              "  </thead>\n",
              "  <tbody>\n",
              "    <tr>\n",
              "      <th>160</th>\n",
              "      <td>It's just a privilege to watch your mind at work.</td>\n",
              "      <td>SHELDON</td>\n",
              "      <td>[I never would have identified the fingerprint...</td>\n",
              "      <td>[LEONARD, SHELDON]</td>\n",
              "      <td>BBT</td>\n",
              "      <td>True</td>\n",
              "    </tr>\n",
              "    <tr>\n",
              "      <th>170</th>\n",
              "      <td>I don't think I'll be able to stop thinking ab...</td>\n",
              "      <td>PENNY</td>\n",
              "      <td>[This is one of my favorite places to kick bac...</td>\n",
              "      <td>[HOWARD, PENNY, HOWARD, HOWARD, HOWARD, PENNY,...</td>\n",
              "      <td>BBT</td>\n",
              "      <td>True</td>\n",
              "    </tr>\n",
              "    <tr>\n",
              "      <th>180</th>\n",
              "      <td>Since it's not bee season, you can have my epi...</td>\n",
              "      <td>SHELDON</td>\n",
              "      <td>[Here we go. Pad thai, no peanuts., But does i...</td>\n",
              "      <td>[LEONARD, HOWARD, LEONARD]</td>\n",
              "      <td>BBT</td>\n",
              "      <td>False</td>\n",
              "    </tr>\n",
              "    <tr>\n",
              "      <th>190</th>\n",
              "      <td>Lois Lane is falling, accelerating at an initi...</td>\n",
              "      <td>SHELDON</td>\n",
              "      <td>[A marathon? How many Superman movies are ther...</td>\n",
              "      <td>[PENNY, SHELDON, PENNY, SHELDON, SHELDON, PENN...</td>\n",
              "      <td>BBT</td>\n",
              "      <td>False</td>\n",
              "    </tr>\n",
              "    <tr>\n",
              "      <th>1105</th>\n",
              "      <td>I'm just inferring this is a couch because the...</td>\n",
              "      <td>SHELDON</td>\n",
              "      <td>[Great Caesar's ghost, look at this place., So...</td>\n",
              "      <td>[SHELDON, LEONARD, SHELDON, SHELDON, SHELDON, ...</td>\n",
              "      <td>BBT</td>\n",
              "      <td>True</td>\n",
              "    </tr>\n",
              "  </tbody>\n",
              "</table>\n",
              "</div>\n",
              "      <button class=\"colab-df-convert\" onclick=\"convertToInteractive('df-e317bff2-699a-4ade-afe9-69696acb3516')\"\n",
              "              title=\"Convert this dataframe to an interactive table.\"\n",
              "              style=\"display:none;\">\n",
              "        \n",
              "  <svg xmlns=\"http://www.w3.org/2000/svg\" height=\"24px\"viewBox=\"0 0 24 24\"\n",
              "       width=\"24px\">\n",
              "    <path d=\"M0 0h24v24H0V0z\" fill=\"none\"/>\n",
              "    <path d=\"M18.56 5.44l.94 2.06.94-2.06 2.06-.94-2.06-.94-.94-2.06-.94 2.06-2.06.94zm-11 1L8.5 8.5l.94-2.06 2.06-.94-2.06-.94L8.5 2.5l-.94 2.06-2.06.94zm10 10l.94 2.06.94-2.06 2.06-.94-2.06-.94-.94-2.06-.94 2.06-2.06.94z\"/><path d=\"M17.41 7.96l-1.37-1.37c-.4-.4-.92-.59-1.43-.59-.52 0-1.04.2-1.43.59L10.3 9.45l-7.72 7.72c-.78.78-.78 2.05 0 2.83L4 21.41c.39.39.9.59 1.41.59.51 0 1.02-.2 1.41-.59l7.78-7.78 2.81-2.81c.8-.78.8-2.07 0-2.86zM5.41 20L4 18.59l7.72-7.72 1.47 1.35L5.41 20z\"/>\n",
              "  </svg>\n",
              "      </button>\n",
              "      \n",
              "  <style>\n",
              "    .colab-df-container {\n",
              "      display:flex;\n",
              "      flex-wrap:wrap;\n",
              "      gap: 12px;\n",
              "    }\n",
              "\n",
              "    .colab-df-convert {\n",
              "      background-color: #E8F0FE;\n",
              "      border: none;\n",
              "      border-radius: 50%;\n",
              "      cursor: pointer;\n",
              "      display: none;\n",
              "      fill: #1967D2;\n",
              "      height: 32px;\n",
              "      padding: 0 0 0 0;\n",
              "      width: 32px;\n",
              "    }\n",
              "\n",
              "    .colab-df-convert:hover {\n",
              "      background-color: #E2EBFA;\n",
              "      box-shadow: 0px 1px 2px rgba(60, 64, 67, 0.3), 0px 1px 3px 1px rgba(60, 64, 67, 0.15);\n",
              "      fill: #174EA6;\n",
              "    }\n",
              "\n",
              "    [theme=dark] .colab-df-convert {\n",
              "      background-color: #3B4455;\n",
              "      fill: #D2E3FC;\n",
              "    }\n",
              "\n",
              "    [theme=dark] .colab-df-convert:hover {\n",
              "      background-color: #434B5C;\n",
              "      box-shadow: 0px 1px 3px 1px rgba(0, 0, 0, 0.15);\n",
              "      filter: drop-shadow(0px 1px 2px rgba(0, 0, 0, 0.3));\n",
              "      fill: #FFFFFF;\n",
              "    }\n",
              "  </style>\n",
              "\n",
              "      <script>\n",
              "        const buttonEl =\n",
              "          document.querySelector('#df-e317bff2-699a-4ade-afe9-69696acb3516 button.colab-df-convert');\n",
              "        buttonEl.style.display =\n",
              "          google.colab.kernel.accessAllowed ? 'block' : 'none';\n",
              "\n",
              "        async function convertToInteractive(key) {\n",
              "          const element = document.querySelector('#df-e317bff2-699a-4ade-afe9-69696acb3516');\n",
              "          const dataTable =\n",
              "            await google.colab.kernel.invokeFunction('convertToInteractive',\n",
              "                                                     [key], {});\n",
              "          if (!dataTable) return;\n",
              "\n",
              "          const docLinkHtml = 'Like what you see? Visit the ' +\n",
              "            '<a target=\"_blank\" href=https://colab.research.google.com/notebooks/data_table.ipynb>data table notebook</a>'\n",
              "            + ' to learn more about interactive tables.';\n",
              "          element.innerHTML = '';\n",
              "          dataTable['output_type'] = 'display_data';\n",
              "          await google.colab.output.renderOutput(dataTable, element);\n",
              "          const docLink = document.createElement('div');\n",
              "          docLink.innerHTML = docLinkHtml;\n",
              "          element.appendChild(docLink);\n",
              "        }\n",
              "      </script>\n",
              "    </div>\n",
              "  </div>\n",
              "  "
            ]
          },
          "metadata": {},
          "execution_count": 7
        }
      ]
    },
    {
      "cell_type": "code",
      "source": [
        "# first time: feature extraction\n",
        "# w10 lab\n",
        "\n",
        "nltk.download('punkt')\n",
        "def w2v_tokenize_text(text):\n",
        "    tokens = []\n",
        "    for sent in nltk.sent_tokenize(text, language='english'):\n",
        "        for word in nltk.word_tokenize(sent, language='english'):\n",
        "            if len(word) < 2:\n",
        "                continue\n",
        "            tokens.append(word)\n",
        "    return tokens\n",
        "\n",
        "def word_averaging(wv, words):\n",
        "    all_words, mean = set(), []\n",
        "    \n",
        "    for word in words:\n",
        "        if isinstance(word, np.ndarray):\n",
        "            mean.append(word)\n",
        "        elif word in wv.vocab:\n",
        "            mean.append(wv.syn0norm[wv.vocab[word].index])\n",
        "            all_words.add(wv.vocab[word].index)\n",
        "\n",
        "    \n",
        "    if not mean:\n",
        "        logging.warning(\"cannot compute similarity with no input %s\", words)\n",
        "        return np.zeros(wv.vector_size,)\n",
        "\n",
        "    mean = gensim.matutils.unitvec(np.array(mean).mean(axis=0)).astype(np.float32)\n",
        "    return mean\n",
        "\n",
        "def  word_averaging_list(wv, text_list):\n",
        "    return np.vstack([word_averaging(wv, post) for post in text_list ])\n",
        "\n",
        "wv = gensim.downloader.load('word2vec-google-news-300')\n",
        "wv.init_sims(replace=True)\n",
        "print('Model loaded')\n",
        "file = open('drive/MyDrive/proj/wv_gnews300_383', 'wb')\n",
        "pickle.dump(wv, file)\n",
        "file.close()\n",
        "\n",
        "tokenized_utterance = df.apply(lambda r: w2v_tokenize_text(r['utterance']), axis=1).values\n",
        "average_utterance = word_averaging_list(wv,tokenized_utterance)\n",
        "file = open('drive/MyDrive/proj/wv_utterance', 'wb')\n",
        "pickle.dump(average_utterance, file)\n",
        "file.close()\n",
        "\n",
        "tokenized_context = df.apply(lambda r: w2v_tokenize_text(\" \".join(r['context']), axis=1)).values\n",
        "average_context = word_averaging_list(wv,tokenized_context)\n",
        "file = open('drive/MyDrive/proj/wv_context', 'wb')\n",
        "pickle.dump(average_context, file)\n",
        "file.close()                       "
      ],
      "metadata": {
        "colab": {
          "base_uri": "https://localhost:8080/"
        },
        "id": "5OTG8oB3fnUV",
        "outputId": "4be8830d-7242-4d6e-a974-117730ff6a49"
      },
      "execution_count": null,
      "outputs": [
        {
          "output_type": "stream",
          "name": "stdout",
          "text": [
            "Model loaded\n",
            "CPU times: user 1min 2s, sys: 8.98 s, total: 1min 11s\n",
            "Wall time: 1min 23s\n"
          ]
        }
      ]
    },
    {
      "cell_type": "code",
      "source": [
        "# second time: load features\n",
        "file = open('drive/MyDrive/proj/wv_utterance', 'rb')\n",
        "average_utterance = pickle.load(file)\n",
        "file.close()\n",
        "\n",
        "file = open('drive/MyDrive/proj/wv_context', 'rb')\n",
        "average_context = pickle.load(file)\n",
        "file.close()"
      ],
      "metadata": {
        "id": "EC-I5UGBYBe7"
      },
      "execution_count": null,
      "outputs": []
    },
    {
      "cell_type": "code",
      "source": [
        "# split\n",
        "X_train, X_test, y_train, y_test = train_test_split(np.concatenate([average_utterance, average_context], axis=1), df[\"sarcasm\"], test_size=0.3, random_state = 42)\n"
      ],
      "metadata": {
        "id": "YgdpOKrgYLyh"
      },
      "execution_count": null,
      "outputs": []
    },
    {
      "cell_type": "code",
      "source": [
        "# evaluate \n",
        "clf = SVC()\n",
        "svm = clf.fit(X_train, y_train)\n",
        "y_pred = svm.predict(X_test)\n",
        "\n",
        "print(classification_report(y_test, y_pred))"
      ],
      "metadata": {
        "colab": {
          "base_uri": "https://localhost:8080/"
        },
        "id": "yArMCKDVgZYr",
        "outputId": "cae73c00-b371-4d7a-8e65-d87801b8ff33"
      },
      "execution_count": null,
      "outputs": [
        {
          "output_type": "stream",
          "name": "stdout",
          "text": [
            "              precision    recall  f1-score   support\n",
            "\n",
            "       False       0.57      0.70      0.63        94\n",
            "        True       0.70      0.57      0.62       113\n",
            "\n",
            "    accuracy                           0.63       207\n",
            "   macro avg       0.63      0.63      0.63       207\n",
            "weighted avg       0.64      0.63      0.63       207\n",
            "\n"
          ]
        }
      ]
    },
    {
      "cell_type": "code",
      "source": [],
      "metadata": {
        "id": "Nn9yNNFN4d_y"
      },
      "execution_count": null,
      "outputs": []
    },
    {
      "cell_type": "code",
      "source": [],
      "metadata": {
        "id": "u-bsjTlW4eGf"
      },
      "execution_count": null,
      "outputs": []
    },
    {
      "cell_type": "code",
      "source": [],
      "metadata": {
        "id": "9GAleJEF4eNc"
      },
      "execution_count": null,
      "outputs": []
    },
    {
      "cell_type": "code",
      "source": [
        "# visualize data\n",
        "df.head(5)\n",
        "plt.figure(figsize=(10,4))\n",
        "df[\"sarcasm\"].value_counts().plot(kind='bar');"
      ],
      "metadata": {
        "colab": {
          "base_uri": "https://localhost:8080/",
          "height": 389
        },
        "id": "Ouqp1Ta6dZ04",
        "outputId": "0b4c11b1-a62d-4009-bf70-55a6fbac27bc"
      },
      "execution_count": null,
      "outputs": [
        {
          "output_type": "display_data",
          "data": {
            "text/plain": [
              "<Figure size 1000x400 with 1 Axes>"
            ],
            "image/png": "[encoded data removed]"
          },
          "metadata": {}
        }
      ]
    },
    {
      "cell_type": "code",
      "source": [],
      "metadata": {
        "id": "dDB0nSdt4fEp"
      },
      "execution_count": null,
      "outputs": []
    },
    {
      "cell_type": "code",
      "source": [],
      "metadata": {
        "id": "4S_nWkTF4fLU"
      },
      "execution_count": null,
      "outputs": []
    },
    {
      "cell_type": "code",
      "source": [],
      "metadata": {
        "id": "J63Yt0jZ4fRb"
      },
      "execution_count": null,
      "outputs": []
    },
    {
      "cell_type": "code",
      "source": [
        "# pca preprocessing\n",
        "pca = decomposition.PCA(n_components=1)\n",
        "pca.fit(average_utterance)\n",
        "pca_utterance = pca.transform(average_utterance)\n",
        "\n",
        "pca_X_train, pca_X_test, pca_y_train, pca_y_test = train_test_split(pca_utterance, df[\"sarcasm\"], test_size=0.3, random_state = 42)\n",
        "\n",
        "\n",
        "pca_clf = SVC()\n",
        "pca_svm = pca_clf.fit(pca_X_train, pca_y_train)\n",
        "pca_y_pred = pca_svm.predict(pca_X_test)\n",
        "\n",
        "print(classification_report(pca_y_test, pca_y_pred))"
      ],
      "metadata": {
        "id": "rjK2FwOp3_vj"
      },
      "execution_count": null,
      "outputs": []
    }
  ]
}