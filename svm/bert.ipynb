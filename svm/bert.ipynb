{
  "nbformat": 4,
  "nbformat_minor": 0,
  "metadata": {
    "colab": {
      "provenance": []
    },
    "kernelspec": {
      "name": "python3",
      "display_name": "Python 3"
    },
    "language_info": {
      "name": "python"
    }
  },
  "cells": [
    {
      "cell_type": "code",
      "execution_count": null,
      "metadata": {
        "colab": {
          "base_uri": "https://localhost:8080/"
        },
        "id": "XBo19mvGhTBm",
        "outputId": "619f5e2c-f681-451a-c91f-cc7c1805570c"
      },
      "outputs": [
        {
          "output_type": "stream",
          "name": "stdout",
          "text": [
            "Looking in indexes: https://pypi.org/simple, https://us-python.pkg.dev/colab-wheels/public/simple/\n",
            "Requirement already satisfied: transformers in /usr/local/lib/python3.9/dist-packages (4.27.4)\n",
            "Requirement already satisfied: regex!=2019.12.17 in /usr/local/lib/python3.9/dist-packages (from transformers) (2022.10.31)\n",
            "Requirement already satisfied: requests in /usr/local/lib/python3.9/dist-packages (from transformers) (2.27.1)\n",
            "Requirement already satisfied: tqdm>=4.27 in /usr/local/lib/python3.9/dist-packages (from transformers) (4.65.0)\n",
            "Requirement already satisfied: pyyaml>=5.1 in /usr/local/lib/python3.9/dist-packages (from transformers) (6.0)\n",
            "Requirement already satisfied: packaging>=20.0 in /usr/local/lib/python3.9/dist-packages (from transformers) (23.0)\n",
            "Requirement already satisfied: tokenizers!=0.11.3,<0.14,>=0.11.1 in /usr/local/lib/python3.9/dist-packages (from transformers) (0.13.2)\n",
            "Requirement already satisfied: huggingface-hub<1.0,>=0.11.0 in /usr/local/lib/python3.9/dist-packages (from transformers) (0.13.3)\n",
            "Requirement already satisfied: filelock in /usr/local/lib/python3.9/dist-packages (from transformers) (3.10.7)\n",
            "Requirement already satisfied: numpy>=1.17 in /usr/local/lib/python3.9/dist-packages (from transformers) (1.22.4)\n",
            "Requirement already satisfied: typing-extensions>=3.7.4.3 in /usr/local/lib/python3.9/dist-packages (from huggingface-hub<1.0,>=0.11.0->transformers) (4.5.0)\n",
            "Requirement already satisfied: certifi>=2017.4.17 in /usr/local/lib/python3.9/dist-packages (from requests->transformers) (2022.12.7)\n",
            "Requirement already satisfied: urllib3<1.27,>=1.21.1 in /usr/local/lib/python3.9/dist-packages (from requests->transformers) (1.26.15)\n",
            "Requirement already satisfied: idna<4,>=2.5 in /usr/local/lib/python3.9/dist-packages (from requests->transformers) (3.4)\n",
            "Requirement already satisfied: charset-normalizer~=2.0.0 in /usr/local/lib/python3.9/dist-packages (from requests->transformers) (2.0.12)\n"
          ]
        }
      ],
      "source": [
        "# packages\n",
        "\n",
        "!pip install transformers \n",
        "\n",
        "import torch\n",
        "from transformers import AutoTokenizer, AutoModel\n",
        "from sklearn.model_selection import train_test_split, GridSearchCV, cross_val_score\n",
        "import pandas as pd\n",
        "import pickle\n",
        "from sklearn.svm import SVC\n",
        "import numpy as np\n",
        "from sklearn.metrics import accuracy_score, confusion_matrix, classification_report"
      ]
    },
    {
      "cell_type": "code",
      "source": [
        "# get data\n",
        "url = \"https://raw.githubusercontent.com/soujanyaporia/MUStARD/master/data/sarcasm_data.json\"\n",
        "df = pd.read_json(url,orient='index')"
      ],
      "metadata": {
        "id": "fmkM6oU7hXBw"
      },
      "execution_count": null,
      "outputs": []
    },
    {
      "cell_type": "code",
      "source": [
        "# first time: feature extraction\n",
        "# https://towardsdatascience.com/feature-extraction-with-bert-for-text-classification-533dde44dc2f\n",
        "\n",
        "device = torch.device('cuda' if torch.cuda.is_available() else 'cpu')\n",
        "tokenizer = AutoTokenizer.from_pretrained(\"distilbert-base-uncased\")\n",
        "model = AutoModel.from_pretrained(\"distilbert-base-uncased\").to(device)\n",
        "\n",
        "tokenized_utterance = tokenizer(df[\"utterance\"].values.tolist(), padding = True, truncation = True, return_tensors=\"pt\")\n",
        "tokenized_utterance = {k:torch.tensor(v).to(device) for k,v in tokenized_utterance.items()}\n",
        "with torch.no_grad():\n",
        "  hidden_utterance = model(**tokenized_utterance)\n",
        "cls_utterance = hidden_utterance.last_hidden_state[:,0,:]\n",
        "print(\"fin utterance\")\n",
        "file = open('drive/MyDrive/proj/bert_utterance', 'wb')\n",
        "pickle.dump(cls_utterance, file)\n",
        "file.close()\n",
        "\n",
        "df[\"context\"] = df.apply(lambda r:\" \".join(r[\"context\"]), axis=1)\n",
        "tokenized_context = tokenizer(df[\"context\"].values.tolist(), padding = True, truncation = True, return_tensors=\"pt\")\n",
        "tokenized_context = {k:torch.tensor(v).to(device) for k,v in tokenized_context.items()}\n",
        "with torch.no_grad():\n",
        "  hidden_context = model(**tokenized_context)\n",
        "cls_context = hidden_context.last_hidden_state[:,0,:]\n",
        "print(\"fin context\")\n",
        "file = open('drive/MyDrive/proj/bert_context', 'wb')\n",
        "pickle.dump(cls_context, file)\n",
        "file.close()\n"
      ],
      "metadata": {
        "colab": {
          "base_uri": "https://localhost:8080/"
        },
        "id": "12_6HyDuhfhe",
        "outputId": "964c66f3-43d4-4f4d-e583-fd72e1cae677"
      },
      "execution_count": null,
      "outputs": [
        {
          "output_type": "stream",
          "name": "stderr",
          "text": [
            "Some weights of the model checkpoint at distilbert-base-uncased were not used when initializing DistilBertModel: ['vocab_transform.weight', 'vocab_layer_norm.bias', 'vocab_projector.bias', 'vocab_projector.weight', 'vocab_layer_norm.weight', 'vocab_transform.bias']\n",
            "- This IS expected if you are initializing DistilBertModel from the checkpoint of a model trained on another task or with another architecture (e.g. initializing a BertForSequenceClassification model from a BertForPreTraining model).\n",
            "- This IS NOT expected if you are initializing DistilBertModel from the checkpoint of a model that you expect to be exactly identical (initializing a BertForSequenceClassification model from a BertForSequenceClassification model).\n"
          ]
        },
        {
          "output_type": "stream",
          "name": "stdout",
          "text": [
            "fin utterance\n"
          ]
        },
        {
          "output_type": "stream",
          "name": "stderr",
          "text": [
            "<ipython-input-6-3f1899cdfa16>:20: UserWarning: To copy construct from a tensor, it is recommended to use sourceTensor.clone().detach() or sourceTensor.clone().detach().requires_grad_(True), rather than torch.tensor(sourceTensor).\n",
            "  tokenized_context = {k:torch.tensor(v).to(device) for k,v in tokenized_context.items()}\n"
          ]
        },
        {
          "output_type": "stream",
          "name": "stdout",
          "text": [
            "fin context\n"
          ]
        }
      ]
    },
    {
      "cell_type": "code",
      "source": [
        "# second time: load features\n",
        "file = open('drive/MyDrive/proj/bert_utterance', 'rb')\n",
        "cls_utterance = pickle.load(file)\n",
        "file.close()\n",
        "file2 = open('drive/MyDrive/proj/bert_context', 'rb')\n",
        "cls_context = pickle.load(file2)\n",
        "file2.close()"
      ],
      "metadata": {
        "id": "G0yJrevCmbho"
      },
      "execution_count": null,
      "outputs": []
    },
    {
      "cell_type": "code",
      "source": [
        "# split\n",
        "X_train, X_test, y_train, y_test = train_test_split(np.concatenate([cls_utterance, cls_context], axis=1), df[\"sarcasm\"], test_size=0.3, random_state = 42)"
      ],
      "metadata": {
        "id": "Nvxppr_pjH6y"
      },
      "execution_count": null,
      "outputs": []
    },
    {
      "cell_type": "code",
      "source": [
        "# tune hyperparameters\n",
        "params = [{'kernel': ['rbf'], \n",
        "                     'gamma': [1e-3, 1e-4],\n",
        "                     'C': [1, 10, 100]},\n",
        "                    {'kernel': ['linear'],\n",
        "                     'C': [1, 10, 100]},\n",
        "         {'kernel': ['poly'],\n",
        "                     'degree': [1, 10, 100]}]\n",
        "gs = GridSearchCV(SVC(),\n",
        "                      param_grid=params,\n",
        "                      scoring='f1',\n",
        "                      cv=5, n_jobs=4)\n",
        "gs.fit(X_train, y_train)\n",
        "print(gs.best_params_)"
      ],
      "metadata": {
        "colab": {
          "base_uri": "https://localhost:8080/"
        },
        "id": "rLVcFrCljLvr",
        "outputId": "80437afe-d57d-4b10-e21b-4447ab361d36"
      },
      "execution_count": null,
      "outputs": [
        {
          "output_type": "stream",
          "name": "stdout",
          "text": [
            "{'degree': 10, 'kernel': 'poly'}\n"
          ]
        }
      ]
    },
    {
      "cell_type": "code",
      "source": [
        "# evaluate\n",
        "clf = gs.best_estimator_\n",
        "scores = cross_val_score(clf, X_test, y_test, cv=5, scoring='f1')\n",
        "sum(scores) / len(scores)"
      ],
      "metadata": {
        "colab": {
          "base_uri": "https://localhost:8080/"
        },
        "id": "bhsRRTCtidt_",
        "outputId": "32ea2c49-20aa-4c65-999b-73c02b76832f"
      },
      "execution_count": null,
      "outputs": [
        {
          "output_type": "execute_result",
          "data": {
            "text/plain": [
              "0.7074074074074075"
            ]
          },
          "metadata": {},
          "execution_count": 61
        }
      ]
    },
    {
      "cell_type": "code",
      "source": [],
      "metadata": {
        "id": "2Bc19vCsqZKN"
      },
      "execution_count": null,
      "outputs": []
    },
    {
      "cell_type": "code",
      "source": [],
      "metadata": {
        "id": "ce7fAizw5aJT"
      },
      "execution_count": null,
      "outputs": []
    },
    {
      "cell_type": "code",
      "source": [],
      "metadata": {
        "id": "6lh9szYM5aLw"
      },
      "execution_count": null,
      "outputs": []
    },
    {
      "cell_type": "code",
      "source": [
        "# only utterance\n",
        "import pandas as pd\n",
        "from sklearn import svm\n",
        "from sklearn.metrics import classification_report, confusion_matrix\n",
        "from sklearn.model_selection import train_test_split, GridSearchCV, cross_val_score\n",
        "import jsonlines\n",
        "import numpy as np\n",
        "\n",
        "CLS_TOKEN_INDEX = 0\n",
        "\n",
        "# read embeddings (feature column) and output (output column)\n",
        "embeddings = []\n",
        "with jsonlines.open(\"../MUStARD/data/bert-output.jsonl\") as utterances:\n",
        "    for utterance in utterances:\n",
        "        features = utterance[\"features\"][CLS_TOKEN_INDEX]\n",
        "        bert_embedding_target = np.mean([np.array(features[\"layers\"][layer][\"values\"])\n",
        "                                            for layer in range(4)], axis=0)\n",
        "        embeddings.append(np.copy(bert_embedding_target))\n",
        "output = pd.read_json(\"../MUStARD/data/sarcasm_data.json\")\n",
        "output = output.transpose()[\"sarcasm\"].astype(int)\n",
        "\n",
        "# split\n",
        "X_train, X_test, y_train, y_test = train_test_split(embeddings, \n",
        "                                                    output,\n",
        "                                                    test_size=0.3,\n",
        "                                                    random_state=0)\n",
        "\n",
        "# tune hyperparameters\n",
        "params = [{'kernel': ['rbf'], \n",
        "                     'gamma': [1e-3, 1e-4],\n",
        "                     'C': [1, 10, 100]},\n",
        "                    {'kernel': ['linear'],\n",
        "                     'C': [1, 10, 100]},\n",
        "         {'kernel': ['poly'],\n",
        "                     'degree': [1, 10, 100]}]\n",
        "gs = GridSearchCV(svm.SVC(),\n",
        "                      param_grid=params,\n",
        "                      scoring='f1',\n",
        "                      cv=5, n_jobs=4)\n",
        "gs.fit(X_train, y_train)\n",
        "print(gs.best_params_)\n",
        "\n",
        "# sample f1, confusion matrix\n",
        "pred = gs.predict(X_test)\n",
        "print(classification_report(y_test, pred))\n",
        "print(confusion_matrix(y_test, pred))\n",
        "\n",
        "# evaluate \n",
        "clf = gs.best_estimator_\n",
        "scores = cross_val_score(clf, X_test, y_test, cv=5, scoring='f1')\n",
        "sum(scores) / len(scores)\n",
        "\n",
        "\n",
        "\n",
        "\n",
        "# data visualization\n",
        "from sklearn import decomposition\n",
        "pca = decomposition.PCA(n_components=2)\n",
        "pca.fit(embeddings)\n",
        "dim = pca.transform(embeddings)\n",
        "\n",
        "# display flatten data\n",
        "import matplotlib.pyplot as plt\n",
        "plt.scatter(dim[:,0],dim[:,1],c=output)\n",
        "plt.scatter(dim_clf.support_vectors_[:,0],dim_clf.support_vectors_[:,1])\n",
        "plt.show()\n",
        "# see pres1 / https://github.com/TaliaWang/50.038-FINAL-PROJECT/blob/08ad6141b48b531246d99a9a786e0335c9c3454e/svm/run.ipynb for graph\n",
        "\n",
        "# diplay f1\n",
        "from sklearn.metrics import roc_curve, roc_auc_score\n",
        "\n",
        "fpr, tpr, thresholds = roc_curve(y_test, pred)\n",
        "plt.plot(fpr, tpr, label='ROC curve (area = %0.3f)' % roc_auc_score(y_test, pred))\n",
        "plt.plot([0, 1], [0, 1], 'k--')  # random predictions curve\n",
        "plt.xlim([0.0, 1.0])\n",
        "plt.ylim([0.0, 1.0])\n",
        "plt.xlabel('False Positive Rate or (1 - Specifity)')\n",
        "plt.ylabel('True Positive Rate or (Sensitivity)')\n",
        "plt.title('Receiver Operating Characteristic')\n",
        "plt.show()\n",
        "# graph source"
      ],
      "metadata": {
        "id": "e9F1OQHR5aNy"
      },
      "execution_count": null,
      "outputs": []
    }
  ]
}