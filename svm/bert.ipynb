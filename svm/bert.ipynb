{
  "nbformat": 4,
  "nbformat_minor": 0,
  "metadata": {
    "colab": {
      "provenance": []
    },
    "kernelspec": {
      "name": "python3",
      "display_name": "Python 3"
    },
    "language_info": {
      "name": "python"
    }
  },
  "cells": [
    {
      "cell_type": "code",
      "execution_count": 1,
      "metadata": {
        "colab": {
          "base_uri": "https://localhost:8080/"
        },
        "id": "XBo19mvGhTBm",
        "outputId": "688d6f02-c750-4d5a-de25-7ef4cab295ee"
      },
      "outputs": [
        {
          "output_type": "stream",
          "name": "stdout",
          "text": [
            "Looking in indexes: https://pypi.org/simple, https://us-python.pkg.dev/colab-wheels/public/simple/\n",
            "Collecting transformers\n",
            "  Downloading transformers-4.27.4-py3-none-any.whl (6.8 MB)\n",
            "\u001b[2K     \u001b[90m━━━━━━━━━━━━━━━━━━━━━━━━━━━━━━━━━━━━━━━━\u001b[0m \u001b[32m6.8/6.8 MB\u001b[0m \u001b[31m25.7 MB/s\u001b[0m eta \u001b[36m0:00:00\u001b[0m\n",
            "\u001b[?25hCollecting tokenizers!=0.11.3,<0.14,>=0.11.1\n",
            "  Downloading tokenizers-0.13.2-cp39-cp39-manylinux_2_17_x86_64.manylinux2014_x86_64.whl (7.6 MB)\n",
            "\u001b[2K     \u001b[90m━━━━━━━━━━━━━━━━━━━━━━━━━━━━━━━━━━━━━━━━\u001b[0m \u001b[32m7.6/7.6 MB\u001b[0m \u001b[31m24.1 MB/s\u001b[0m eta \u001b[36m0:00:00\u001b[0m\n",
            "\u001b[?25hRequirement already satisfied: packaging>=20.0 in /usr/local/lib/python3.9/dist-packages (from transformers) (23.0)\n",
            "Requirement already satisfied: pyyaml>=5.1 in /usr/local/lib/python3.9/dist-packages (from transformers) (6.0)\n",
            "Requirement already satisfied: filelock in /usr/local/lib/python3.9/dist-packages (from transformers) (3.10.7)\n",
            "Requirement already satisfied: regex!=2019.12.17 in /usr/local/lib/python3.9/dist-packages (from transformers) (2022.10.31)\n",
            "Requirement already satisfied: requests in /usr/local/lib/python3.9/dist-packages (from transformers) (2.27.1)\n",
            "Collecting huggingface-hub<1.0,>=0.11.0\n",
            "  Downloading huggingface_hub-0.13.3-py3-none-any.whl (199 kB)\n",
            "\u001b[2K     \u001b[90m━━━━━━━━━━━━━━━━━━━━━━━━━━━━━━━━━━━━━━\u001b[0m \u001b[32m199.8/199.8 KB\u001b[0m \u001b[31m12.4 MB/s\u001b[0m eta \u001b[36m0:00:00\u001b[0m\n",
            "\u001b[?25hRequirement already satisfied: tqdm>=4.27 in /usr/local/lib/python3.9/dist-packages (from transformers) (4.65.0)\n",
            "Requirement already satisfied: numpy>=1.17 in /usr/local/lib/python3.9/dist-packages (from transformers) (1.22.4)\n",
            "Requirement already satisfied: typing-extensions>=3.7.4.3 in /usr/local/lib/python3.9/dist-packages (from huggingface-hub<1.0,>=0.11.0->transformers) (4.5.0)\n",
            "Requirement already satisfied: charset-normalizer~=2.0.0 in /usr/local/lib/python3.9/dist-packages (from requests->transformers) (2.0.12)\n",
            "Requirement already satisfied: certifi>=2017.4.17 in /usr/local/lib/python3.9/dist-packages (from requests->transformers) (2022.12.7)\n",
            "Requirement already satisfied: idna<4,>=2.5 in /usr/local/lib/python3.9/dist-packages (from requests->transformers) (3.4)\n",
            "Requirement already satisfied: urllib3<1.27,>=1.21.1 in /usr/local/lib/python3.9/dist-packages (from requests->transformers) (1.26.15)\n",
            "Installing collected packages: tokenizers, huggingface-hub, transformers\n",
            "Successfully installed huggingface-hub-0.13.3 tokenizers-0.13.2 transformers-4.27.4\n"
          ]
        }
      ],
      "source": [
        "!pip install transformers \n",
        "\n",
        "import torch\n",
        "from transformers import AutoTokenizer, AutoModel\n",
        "from sklearn.model_selection import train_test_split, GridSearchCV, cross_val_score\n",
        "import pandas as pd\n",
        "import pickle\n",
        "from sklearn.svm import SVC\n",
        "import numpy as np\n",
        "from sklearn.metrics import accuracy_score, confusion_matrix, classification_report"
      ]
    },
    {
      "cell_type": "code",
      "source": [
        "# get data\n",
        "url = \"https://raw.githubusercontent.com/soujanyaporia/MUStARD/master/data/sarcasm_data.json\"\n",
        "df = pd.read_json(url,orient='index')"
      ],
      "metadata": {
        "id": "fmkM6oU7hXBw"
      },
      "execution_count": 2,
      "outputs": []
    },
    {
      "cell_type": "code",
      "source": [
        "# first time: feature extraction\n",
        "# https://towardsdatascience.com/feature-extraction-with-bert-for-text-classification-533dde44dc2f\n",
        "\n",
        "device = torch.device('cuda' if torch.cuda.is_available() else 'cpu')\n",
        "tokenizer = AutoTokenizer.from_pretrained(\"distilbert-base-uncased\")\n",
        "model = AutoModel.from_pretrained(\"distilbert-base-uncased\").to(device)\n",
        "\n",
        "tokenized_utterance = tokenizer(df[\"utterance\"].values.tolist(), padding = True, truncation = True, return_tensors=\"pt\")\n",
        "tokenized_utterance = {k:torch.tensor(v).to(device) for k,v in tokenized_utterance.items()}\n",
        "with torch.no_grad():\n",
        "  hidden_utterance = model(**tokenized_utterance)\n",
        "cls_utterance = hidden_utterance.last_hidden_state[:,0,:]\n",
        "print(\"fin utterance\")\n",
        "file = open('drive/MyDrive/bert_utterance', 'wb')\n",
        "pickle.dump(cls_utterance, file)\n",
        "file.close()\n",
        "\n",
        "df[\"context\"] = df.apply(lambda r:\" \".join(r[\"context\"]), axis=1)\n",
        "tokenized_context = tokenizer(df[\"context\"].values.tolist(), padding = True, truncation = True, return_tensors=\"pt\")\n",
        "tokenized_context = {k:torch.tensor(v).to(device) for k,v in tokenized_context.items()}\n",
        "with torch.no_grad():\n",
        "  hidden_context = model(**tokenized_context)\n",
        "cls_context = hidden_context.last_hidden_state[:,0,:]\n",
        "print(\"fin context\")\n",
        "file = open('drive/MyDrive/bert_context', 'wb')\n",
        "pickle.dump(cls_context, file)\n",
        "file.close()\n"
      ],
      "metadata": {
        "colab": {
          "base_uri": "https://localhost:8080/"
        },
        "id": "12_6HyDuhfhe",
        "outputId": "964c66f3-43d4-4f4d-e583-fd72e1cae677"
      },
      "execution_count": 6,
      "outputs": [
        {
          "output_type": "stream",
          "name": "stderr",
          "text": [
            "Some weights of the model checkpoint at distilbert-base-uncased were not used when initializing DistilBertModel: ['vocab_transform.weight', 'vocab_layer_norm.bias', 'vocab_projector.bias', 'vocab_projector.weight', 'vocab_layer_norm.weight', 'vocab_transform.bias']\n",
            "- This IS expected if you are initializing DistilBertModel from the checkpoint of a model trained on another task or with another architecture (e.g. initializing a BertForSequenceClassification model from a BertForPreTraining model).\n",
            "- This IS NOT expected if you are initializing DistilBertModel from the checkpoint of a model that you expect to be exactly identical (initializing a BertForSequenceClassification model from a BertForSequenceClassification model).\n"
          ]
        },
        {
          "output_type": "stream",
          "name": "stdout",
          "text": [
            "fin utterance\n"
          ]
        },
        {
          "output_type": "stream",
          "name": "stderr",
          "text": [
            "<ipython-input-6-3f1899cdfa16>:20: UserWarning: To copy construct from a tensor, it is recommended to use sourceTensor.clone().detach() or sourceTensor.clone().detach().requires_grad_(True), rather than torch.tensor(sourceTensor).\n",
            "  tokenized_context = {k:torch.tensor(v).to(device) for k,v in tokenized_context.items()}\n"
          ]
        },
        {
          "output_type": "stream",
          "name": "stdout",
          "text": [
            "fin context\n"
          ]
        }
      ]
    },
    {
      "cell_type": "code",
      "source": [
        "# second time: load features\n",
        "file = open('drive/MyDrive/bert_utterance', 'rb')\n",
        "check = pickle.load(file)\n",
        "file.close()\n",
        "file2 = open('drive/MyDrive/bert_context', 'rb')\n",
        "check2 = pickle.load(file2)\n",
        "file2.close()"
      ],
      "metadata": {
        "id": "G0yJrevCmbho"
      },
      "execution_count": 10,
      "outputs": []
    },
    {
      "cell_type": "code",
      "source": [
        "# split\n",
        "\n",
        "# sarcasm = np.expand_dims(df[\"sarcasm\"], axis=1)\n",
        "# df_embeddings = np.concatenate([cls_utterance, cls_context, sarcasm], axis=1)\n",
        "\n",
        "X_train, X_test, y_train, y_test = train_test_split(np.concatenate([cls_utterance, cls_context], axis=1), df[\"sarcasm\"], test_size=0.3, random_state = 42)\n"
      ],
      "metadata": {
        "id": "Nvxppr_pjH6y"
      },
      "execution_count": 59,
      "outputs": []
    },
    {
      "cell_type": "code",
      "source": [
        "# tune hyperparameters\n",
        "params = [{'kernel': ['rbf'], \n",
        "                     'gamma': [1e-3, 1e-4],\n",
        "                     'C': [1, 10, 100]},\n",
        "                    {'kernel': ['linear'],\n",
        "                     'C': [1, 10, 100]},\n",
        "         {'kernel': ['poly'],\n",
        "                     'degree': [1, 10, 100]}]\n",
        "gs = GridSearchCV(SVC(),\n",
        "                      param_grid=params,\n",
        "                      scoring='f1',\n",
        "                      cv=5, n_jobs=4)\n",
        "gs.fit(X_train, y_train)\n",
        "print(gs.best_params_)"
      ],
      "metadata": {
        "colab": {
          "base_uri": "https://localhost:8080/"
        },
        "id": "rLVcFrCljLvr",
        "outputId": "80437afe-d57d-4b10-e21b-4447ab361d36"
      },
      "execution_count": 60,
      "outputs": [
        {
          "output_type": "stream",
          "name": "stdout",
          "text": [
            "{'degree': 10, 'kernel': 'poly'}\n"
          ]
        }
      ]
    },
    {
      "cell_type": "code",
      "source": [
        "clf = gs.best_estimator_\n",
        "scores = cross_val_score(clf, X_test, y_test, cv=5, scoring='f1')\n",
        "sum(scores) / len(scores)"
      ],
      "metadata": {
        "colab": {
          "base_uri": "https://localhost:8080/"
        },
        "id": "bhsRRTCtidt_",
        "outputId": "32ea2c49-20aa-4c65-999b-73c02b76832f"
      },
      "execution_count": 61,
      "outputs": [
        {
          "output_type": "execute_result",
          "data": {
            "text/plain": [
              "0.7074074074074075"
            ]
          },
          "metadata": {},
          "execution_count": 61
        }
      ]
    },
    {
      "cell_type": "code",
      "source": [],
      "metadata": {
        "id": "2Bc19vCsqZKN"
      },
      "execution_count": null,
      "outputs": []
    }
  ]
}