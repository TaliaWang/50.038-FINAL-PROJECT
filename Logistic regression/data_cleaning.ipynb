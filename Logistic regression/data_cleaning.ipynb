{
 "cells": [
  {
   "attachments": {},
   "cell_type": "markdown",
   "metadata": {},
   "source": [
    "Parse JSON"
   ]
  },
  {
   "cell_type": "code",
   "execution_count": 27,
   "metadata": {},
   "outputs": [
    {
     "name": "stdout",
     "output_type": "stream",
     "text": [
      "BBT: 280\n",
      "FRIENDS: 356\n",
      "GOLDENGIRLS: 40\n",
      "SARCASMOHOLICS: 14\n",
      "sarcasm: 345\n",
      "overall count: 690\n"
     ]
    }
   ],
   "source": [
    "import json\n",
    "\n",
    "# Open the JSON file for reading\n",
    "with open('../MUStARD/data/sarcasm_data.json') as json_file:\n",
    "    # Load the data from the file into a Python object\n",
    "    data = json.load(json_file)\n",
    "\n",
    "# Access the data in the Python object\n",
    "#for key, value in data.items():\n",
    "    #print(f\"Utterance: {value['utterance']}\")\n",
    "    #print(f\"Speaker: {value['speaker']}\")\n",
    "    #print(f\"Context: {value['context']}\")\n",
    "    #print(f\"Context Speakers: {value['context_speakers']}\")\n",
    "    #print(f\"Show: {value['show']}\")\n",
    "    #print(f\"Sarcasm: {value['sarcasm']}\")\n",
    "\n",
    "# Create an empty dictionary to hold the counts\n",
    "show_count_map = {}\n",
    "sarcasm_count = 0\n",
    "overallCount = 0\n",
    "\n",
    "# Loop through the data and count the occurrences of each value\n",
    "for key, value in data.items():\n",
    "    show = value['show']\n",
    "    if show in show_count_map:\n",
    "        show_count_map[show] += 1\n",
    "    else:\n",
    "        show_count_map[show] = 1\n",
    "\n",
    "    sarcasm = value['sarcasm']\n",
    "    if sarcasm:\n",
    "        sarcasm_count += 1\n",
    "        overallCount += 1\n",
    "    else:\n",
    "        overallCount += 1\n",
    "\n",
    "\n",
    "# Print the counts\n",
    "for show, count in show_count_map.items():\n",
    "    print(f\"{show}: {count}\")\n",
    "\n",
    "print(f\"sarcasm: {sarcasm_count}\")\n",
    "print(f\"overall count: {overallCount}\")\n"
   ]
  }
 ],
 "metadata": {
  "kernelspec": {
   "display_name": "Python 3",
   "language": "python",
   "name": "python3"
  },
  "language_info": {
   "codemirror_mode": {
    "name": "ipython",
    "version": 3
   },
   "file_extension": ".py",
   "mimetype": "text/x-python",
   "name": "python",
   "nbconvert_exporter": "python",
   "pygments_lexer": "ipython3",
   "version": "3.10.1"
  },
  "orig_nbformat": 4,
  "vscode": {
   "interpreter": {
    "hash": "369f2c481f4da34e4445cda3fffd2e751bd1c4d706f27375911949ba6bb62e1c"
   }
  }
 },
 "nbformat": 4,
 "nbformat_minor": 2
}
