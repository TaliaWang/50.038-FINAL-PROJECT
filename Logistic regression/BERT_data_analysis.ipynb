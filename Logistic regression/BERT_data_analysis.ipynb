{
 "cells": [
  {
   "cell_type": "code",
   "execution_count": 3,
   "metadata": {},
   "outputs": [],
   "source": [
    "import pandas as pd\n",
    "from sklearn.metrics import classification_report\n",
    "import jsonlines\n",
    "import numpy as np\n",
    "\n",
    "from sklearn.linear_model import LogisticRegression\n",
    "from sklearn.preprocessing import MinMaxScaler\n",
    "from sklearn.model_selection import KFold\n",
    "from sklearn.model_selection import cross_val_score"
   ]
  },
  {
   "cell_type": "code",
   "execution_count": 2,
   "metadata": {},
   "outputs": [
    {
     "ename": "NameError",
     "evalue": "name 'pd' is not defined",
     "output_type": "error",
     "traceback": [
      "\u001b[1;31m---------------------------------------------------------------------------\u001b[0m",
      "\u001b[1;31mNameError\u001b[0m                                 Traceback (most recent call last)",
      "\u001b[1;32m~\\AppData\\Local\\Temp\\ipykernel_2904\\4017145939.py\u001b[0m in \u001b[0;36m<module>\u001b[1;34m\u001b[0m\n\u001b[0;32m      2\u001b[0m \u001b[1;33m\u001b[0m\u001b[0m\n\u001b[0;32m      3\u001b[0m \u001b[1;31m# partition data\u001b[0m\u001b[1;33m\u001b[0m\u001b[1;33m\u001b[0m\u001b[0m\n\u001b[1;32m----> 4\u001b[1;33m \u001b[0mdf\u001b[0m \u001b[1;33m=\u001b[0m \u001b[0mpd\u001b[0m\u001b[1;33m.\u001b[0m\u001b[0mread_json\u001b[0m\u001b[1;33m(\u001b[0m\u001b[1;34m\"../MUStARD/data/sarcasm_data.json\"\u001b[0m\u001b[1;33m)\u001b[0m\u001b[1;33m\u001b[0m\u001b[1;33m\u001b[0m\u001b[0m\n\u001b[0m\u001b[0;32m      5\u001b[0m \u001b[1;31m#print(df.iloc[0])\u001b[0m\u001b[1;33m\u001b[0m\u001b[1;33m\u001b[0m\u001b[0m\n\u001b[0;32m      6\u001b[0m \u001b[0mdf\u001b[0m \u001b[1;33m=\u001b[0m \u001b[0mdf\u001b[0m\u001b[1;33m.\u001b[0m\u001b[0mtranspose\u001b[0m\u001b[1;33m(\u001b[0m\u001b[1;33m)\u001b[0m\u001b[1;33m\u001b[0m\u001b[1;33m\u001b[0m\u001b[0m\n",
      "\u001b[1;31mNameError\u001b[0m: name 'pd' is not defined"
     ]
    }
   ],
   "source": [
    "CLS_TOKEN_INDEX = 0\n",
    "\n",
    "# partition data\n",
    "df = pd.read_json(\"../MUStARD/data/sarcasm_data.json\")\n",
    "#print(df.iloc[0])\n",
    "df = df.transpose()\n",
    "#print(df.iloc[0])\n",
    "\n",
    "embeddings = []\n",
    "\n",
    "with jsonlines.open(\"../MUStARD/data/bert-output.jsonl\") as utterances:\n",
    "   \n",
    "    for utterance in utterances:\n",
    "\n",
    "        # dict\n",
    "        # print(type(utterance))\n",
    "        # print(type(utterance[\"features\"]))\n",
    "        \n",
    "        # print(len(utterance[\"features\"]))\n",
    "        # the sizes do vary here.\n",
    "        # but does it matter? not all indexes seem to be used.\n",
    "\n",
    "        # print(len(utterance[\"features\"][CLS_TOKEN_INDEX]))\n",
    "        # --> all seem to be size 2.\n",
    "\n",
    "        # print(type(utterance[\"features\"][CLS_TOKEN_INDEX]))\n",
    "        # --> dict\n",
    "\n",
    "        # pritnt type / shape of utterances here.\n",
    "        features = utterance[\"features\"][CLS_TOKEN_INDEX]\n",
    "\n",
    "        # print(len(features[\"layers\"]))     #type=list\n",
    "        # len = 4\n",
    "\n",
    "        #print(type(features[\"layers\"][0]))  # type = dict\n",
    "\n",
    "        #print(type(features[\"layers\"][0][\"values\"]))    # type = list\n",
    "\n",
    "        print(len(features[\"layers\"][3][\"values\"]))     # len = 768 for all indexes 0 - 3\n",
    "\n",
    "        bert_embedding_target = np.mean([np.array(features[\"layers\"][layer][\"values\"])\n",
    "                                            for layer in range(4)], axis=0)\n",
    "        \n",
    "        embeddings.append(np.copy(bert_embedding_target))\n",
    "\n",
    "sizeOfEmbeddings = 0\n",
    "dict = {}\n",
    "for embedding in embeddings:\n",
    "    sizeOfEmbeddings+=1\n",
    "    #print(f\"the size of embedding's first element: {embeddings[0].shape}\")\n",
    "    if (dict[embeddings[0].shape]):\n",
    "        dict[embeddings[0].shape] = dict[embeddings[0].shape] + 1 \n",
    "    else:\n",
    "        dict.add(embeddings[0].shape, 0)\n",
    "    \n",
    "\n",
    "for element in dict:\n",
    "    print(f\"the key {dict.key} has value {dict.value}.\")\n",
    "print(f\"the size of embeddings: {sizeOfEmbeddings}\")"
   ]
  }
 ],
 "metadata": {
  "kernelspec": {
   "display_name": "base",
   "language": "python",
   "name": "python3"
  },
  "language_info": {
   "codemirror_mode": {
    "name": "ipython",
    "version": 3
   },
   "file_extension": ".py",
   "mimetype": "text/x-python",
   "name": "python",
   "nbconvert_exporter": "python",
   "pygments_lexer": "ipython3",
   "version": "3.9.13"
  },
  "orig_nbformat": 4
 },
 "nbformat": 4,
 "nbformat_minor": 2
}
